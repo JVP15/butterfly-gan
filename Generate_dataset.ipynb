{
 "cells": [
  {
   "cell_type": "markdown",
   "id": "c5be66ae",
   "metadata": {},
   "source": [
    "#### Steps:\n",
    "\n",
    "step1: Run the file after editing the path to dataset variable - DATAPATH\n",
    "\n",
    "( Note: Generate_dataset.ipynb requires butterfly_dataset.py in the same folder)"
   ]
  },
  {
   "cell_type": "code",
   "execution_count": 37,
   "id": "40e27e9d",
   "metadata": {},
   "outputs": [],
   "source": [
    "import os\n",
    "import numpy as np\n",
    "import cv2\n",
    "\n",
    "from sklearn.model_selection import train_test_split\n",
    "\n",
    "import butterfly_dataset as bd\n",
    "from PIL import Image\n"
   ]
  },
  {
   "cell_type": "code",
   "execution_count": 53,
   "id": "b3a07b05",
   "metadata": {},
   "outputs": [],
   "source": [
    "def generate_training_set(path, typ, data):\n",
    "    base='./data/'\n",
    "        \n",
    "    for i,file in enumerate(data):\n",
    "        if(typ == 'Train'):\n",
    "            filename= base+'train/train'+str(i)+'.jpg'\n",
    "        elif(typ == 'Val'):\n",
    "            filename= base+'val/val'+str(i)+'.jpg'\n",
    "        #load image\n",
    "        img = cv2.imread(str(path + \"/\" +file))\n",
    "        #resize to 256\n",
    "        #get canny and image from preprocess file\n",
    "        real_image,input_image = preprocesser.preprocess_image(img)\n",
    "        input_image = cv2.merge((input_image,input_image,input_image))\n",
    "        combined_img = np.concatenate((input_image, real_image), axis=1)\n",
    "#         cv2.imwrite(filename, combined_img)\n",
    "        Image.fromarray(combined_img).save(filename) #concerts back to RBG\n",
    "    "
   ]
  },
  {
   "cell_type": "code",
   "execution_count": 47,
   "id": "1a4f6670",
   "metadata": {},
   "outputs": [],
   "source": [
    "#create base folder \n",
    "folderpath = './data' \n",
    "if not os.path.exists(folderpath):\n",
    "    os.makedirs(folderpath)\n",
    "#create train folder \n",
    "trainpath = './data/train'\n",
    "if not os.path.exists(trainpath):\n",
    "    os.makedirs(trainpath)\n",
    "#create val folder \n",
    "valpath ='./data/val'\n",
    "if not os.path.exists(valpath):\n",
    "    os.makedirs(valpath)"
   ]
  },
  {
   "cell_type": "code",
   "execution_count": 48,
   "id": "adddd95f",
   "metadata": {},
   "outputs": [],
   "source": [
    "DATAPATH = \"/Users/priyankamoorthy/Downloads/SJSU/SPRING22/258/butterflies\"\n",
    "dataset_name = \"butterflies\""
   ]
  },
  {
   "cell_type": "code",
   "execution_count": 49,
   "id": "d47426be",
   "metadata": {},
   "outputs": [],
   "source": [
    "dataset =   os.listdir(str(DATAPATH))"
   ]
  },
  {
   "cell_type": "code",
   "execution_count": 50,
   "id": "0b23b3b5",
   "metadata": {},
   "outputs": [],
   "source": [
    "x_train ,x_test = train_test_split(dataset,test_size=0.3) "
   ]
  },
  {
   "cell_type": "code",
   "execution_count": 51,
   "id": "d3b7fff5",
   "metadata": {},
   "outputs": [],
   "source": [
    "preprocesser = bd.ButterflyDataset(batch_size=4,image_size=256)"
   ]
  },
  {
   "cell_type": "code",
   "execution_count": 54,
   "id": "1aa45cd4",
   "metadata": {},
   "outputs": [],
   "source": [
    "generate_training_set(DATAPATH, 'Train',x_train)"
   ]
  },
  {
   "cell_type": "code",
   "execution_count": 55,
   "id": "2de7510d",
   "metadata": {},
   "outputs": [],
   "source": [
    "generate_training_set(DATAPATH, 'Val',x_test)"
   ]
  },
  {
   "cell_type": "code",
   "execution_count": null,
   "id": "f32936c2",
   "metadata": {},
   "outputs": [],
   "source": []
  }
 ],
 "metadata": {
  "kernelspec": {
   "display_name": "Python 3",
   "language": "python",
   "name": "python3"
  },
  "language_info": {
   "codemirror_mode": {
    "name": "ipython",
    "version": 3
   },
   "file_extension": ".py",
   "mimetype": "text/x-python",
   "name": "python",
   "nbconvert_exporter": "python",
   "pygments_lexer": "ipython3",
   "version": "3.6.2"
  }
 },
 "nbformat": 4,
 "nbformat_minor": 5
}
