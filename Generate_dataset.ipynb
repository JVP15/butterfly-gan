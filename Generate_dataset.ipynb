{
 "cells": [
  {
   "cell_type": "code",
   "execution_count": 11,
   "id": "7f2d6112",
   "metadata": {},
   "outputs": [],
   "source": [
    "import os\n",
    "import numpy as np\n",
    "import cv2\n",
    "\n",
    "from sklearn.model_selection import train_test_split\n",
    "\n",
    "import butterfly_dataset as bd\n"
   ]
  },
  {
   "cell_type": "code",
   "execution_count": 23,
   "id": "051817ef",
   "metadata": {},
   "outputs": [],
   "source": [
    "def generate_training_set(path, typ, data):\n",
    "    if(typ == 'Train'):\n",
    "        for i,file in enumerate(data):\n",
    "            #load image\n",
    "            img = cv2.imread(str(path + \"/\" +file))\n",
    "            #resize to 256\n",
    "            #get canny and image from preprocess file\n",
    "            real_image,input_image = preprocesser.preprocess_image(img)\n",
    "            input_image = cv2.merge((input_image,input_image,input_image))\n",
    "            train_img = np.concatenate((input_image, real_image), axis=1)\n",
    "            filename='./data/train/train'+str(i)+'.jpg'\n",
    "            cv2.imwrite(filename, train_img)\n",
    "        #combine into one\n",
    "        #save to train folder\n",
    "    elif(typ == 'Val'):\n",
    "        for i,file in enumerate(data):\n",
    "            #load image\n",
    "            img = cv2.imread(str(path + \"/\" +file))\n",
    "            #resize to 256\n",
    "            real_image,input_image = preprocesser.preprocess_image(img)\n",
    "            filename='./data/val/val'+str(i)+'.jpg'\n",
    "            cv2.imwrite(filename, real_image)\n",
    "            #save the real image to test folder\n",
    "    \n",
    "    "
   ]
  },
  {
   "cell_type": "code",
   "execution_count": 4,
   "id": "e8b14a75",
   "metadata": {},
   "outputs": [],
   "source": [
    "newpath = './data' \n",
    "if not os.path.exists(newpath):\n",
    "    os.makedirs(newpath)\n",
    "    \n",
    "trainpath = './data/train'\n",
    "if not os.path.exists(trainpath):\n",
    "    os.makedirs(trainpath)\n",
    "    \n",
    "valpath ='./data/val'\n",
    "if not os.path.exists(valpath):\n",
    "    os.makedirs(valpath)"
   ]
  },
  {
   "cell_type": "code",
   "execution_count": 5,
   "id": "23d5692e",
   "metadata": {},
   "outputs": [],
   "source": [
    "DATAPATH = \"/Users/priyankamoorthy/Downloads/SJSU/SPRING22/258/butterflies\"\n",
    "dataset_name = \"butterflies\""
   ]
  },
  {
   "cell_type": "code",
   "execution_count": 7,
   "id": "c2af6f3a",
   "metadata": {},
   "outputs": [],
   "source": [
    "dataset =   os.listdir(str(DATAPATH))"
   ]
  },
  {
   "cell_type": "code",
   "execution_count": 9,
   "id": "197840b6",
   "metadata": {},
   "outputs": [],
   "source": [
    "x_train ,x_test = train_test_split(dataset,test_size=0.3) "
   ]
  },
  {
   "cell_type": "code",
   "execution_count": 16,
   "id": "e61c3b2f",
   "metadata": {},
   "outputs": [],
   "source": [
    "preprocesser = bd.ButterflyDataset(batch_size=4,image_size=256)"
   ]
  },
  {
   "cell_type": "code",
   "execution_count": 19,
   "id": "9fe11bbd",
   "metadata": {},
   "outputs": [],
   "source": [
    "generate_training_set(DATAPATH, 'Train',x_train)"
   ]
  },
  {
   "cell_type": "code",
   "execution_count": 24,
   "id": "d203a905",
   "metadata": {},
   "outputs": [],
   "source": [
    "generate_training_set(DATAPATH, 'Val',x_test)"
   ]
  }
 ],
 "metadata": {
  "kernelspec": {
   "display_name": "Python 3",
   "language": "python",
   "name": "python3"
  },
  "language_info": {
   "codemirror_mode": {
    "name": "ipython",
    "version": 3
   },
   "file_extension": ".py",
   "mimetype": "text/x-python",
   "name": "python",
   "nbconvert_exporter": "python",
   "pygments_lexer": "ipython3",
   "version": "3.6.2"
  }
 },
 "nbformat": 4,
 "nbformat_minor": 5
}
